{
  "nbformat": 4,
  "nbformat_minor": 0,
  "metadata": {
    "colab": {
      "name": "KNN Classification.ipynb",
      "version": "0.3.2",
      "provenance": [],
      "collapsed_sections": [],
      "machine_shape": "hm",
      "include_colab_link": true
    },
    "kernelspec": {
      "name": "python3",
      "display_name": "Python 3"
    }
  },
  "cells": [
    {
      "cell_type": "markdown",
      "metadata": {
        "id": "view-in-github",
        "colab_type": "text"
      },
      "source": [
        "<a href=\"https://colab.research.google.com/github/SalahSoliman/Classification-Algorithms/blob/master/KNN_Classification.ipynb\" target=\"_parent\"><img src=\"https://colab.research.google.com/assets/colab-badge.svg\" alt=\"Open In Colab\"/></a>"
      ]
    },
    {
      "cell_type": "markdown",
      "metadata": {
        "id": "9GjcNbOWDjZi",
        "colab_type": "text"
      },
      "source": [
        "#KNN Classification\n",
        "\n",
        "\n",
        "##The following topics are covered in this lesson:\n",
        "\n",
        "\n",
        "1.   Explanation of the K-Nearest Neighbor classification algorithm\n",
        "2.   Implementation of the K-Nearest Neighbor classification algorithm at low level of implementation\n",
        "3.   Implementation of the K-Nearest Neighbor classification algorithm using sklearn library on the cancer dataset."
      ]
    },
    {
      "cell_type": "markdown",
      "metadata": {
        "id": "3gm-CJijEhue",
        "colab_type": "text"
      },
      "source": [
        "##1. Explanation of the K-Nearest Neighbor algorithm.\n",
        "\n",
        "Imagine you have two inputs, let's say x-axis is age of a company, and y-axis is there debt, for instance there might not be a direct relationship between them, but you have this data, and you want to know whether this company will grow or not (0 or 1), so the KNN algorithm will help you solve this problem by calculating the distance between the test point and all the neighbors.\n",
        "Moreover, there are many tehcniques of calculating the distance, and many techniques of assessing which class does the test point belongs to.\n",
        "\n",
        "###How to calculate the distance?\n",
        "![alt text](https://www.saedsayad.com/images/KNN_similarity.png)\n",
        "\n",
        "We will use the Euclidean distance method in this lesson.\n",
        "\n",
        "let's assume we are assessing using 3 neighbors, so if you have 2 neighbors in class A, and 1 neighbor in class B, then the test point belongs to class A.\n",
        "\n",
        "what if you chose k=2, and you have one neighbor in class A, and the other is class B, it's most likely to be the one closer to be the correct class.\n",
        "\n",
        "Anyway it's advised to use odd numbers for k, this is not a rule.\n",
        "\n",
        "##What is data Normalization and why do we need it in KNN?\n",
        "\n",
        "Here's the normalization formula:\n",
        "\n",
        "![alt text](https://miro.medium.com/max/682/0*oRhJXkyKqqYp8--e.)\n",
        "\n",
        "This formula is applied to both x and y data.\n",
        "\n",
        "In the following example the x-data range is [-5,5] and the y-data range is [-0.001, 0.001], so when calculating the euclidean distance the x-data has more influence on the classification, which means for instance distance = sqrt(sqr(x) + sqr(y)) then the distance will be **biased** to the x-data, as which we have the x-data for example is the monthly growth of a a firm, and the y-data for the stock price divided by a constant.\n",
        "\n",
        "So they are two values that cannot be compared to each other, as if you ask a person how old are you, and he answers: \"I'm 2 **meters old**\", irrational and uninformative.\n",
        "\n",
        "###That's why we use data normalization in the KNN algorithm, as we are substituing two different quantities in the same equation!\n",
        "\n"
      ]
    },
    {
      "cell_type": "markdown",
      "metadata": {
        "id": "A6s9SkEPJr63",
        "colab_type": "text"
      },
      "source": [
        "##2- Implementation of the K-Nearest Neighbor classification algorithm at low level of implementation\n",
        "\n",
        "\n",
        "1.   Importing numpy, and matplotlib for plotting\n",
        "\n",
        "2.   Checking the \"K\" is an odd number so that our classifying is always odd, in case it's an input from the user.\n",
        "3.   Creating our dataset(which is random), so for ease instead of creating a labeling array, the first class is y1, and the second class is y2.\n",
        "4.   Create a test point which is also random.\n",
        "5. plot the dataset, and the test point.\n",
        "\n"
      ]
    },
    {
      "cell_type": "code",
      "metadata": {
        "id": "KuZEog7WntNz",
        "colab_type": "code",
        "colab": {
          "base_uri": "https://localhost:8080/",
          "height": 342
        },
        "outputId": "603bdc82-2e5a-4b75-eb1a-feae0a85f07a"
      },
      "source": [
        "import numpy as np\n",
        "import matplotlib.pyplot as plt\n",
        "k = 2 # number of neighbors to evaluate the test data\n",
        "if k%2==0:\n",
        "  k=k+1\n",
        "  \n",
        "num = 30 #number of points in each class\n",
        "x1 = np.linspace(-5, 5, num)\n",
        "y1 = np.random.randn(num)*0.001 #Class 0\n",
        "y2 = np.random.randn(num) *0.001 #Class 1\n",
        "\n",
        "x_test = np.random.randn(1) * 2.5\n",
        "y_test = np.random.randn(1) * 0.001\n",
        "\n",
        "f = plt.figure(1)\n",
        "plt.scatter(x1,y1, color=\"red\", label=\"class 0\", marker=\"x\")\n",
        "plt.scatter(x1,y2, color=\"blue\", label=\"class 1\", marker=\"o\")\n",
        "plt.scatter(x_test, y_test, color=\"black\", marker=\"D\", label=\"test point\")\n",
        "plt.title(\"Raw data\", size=20)\n",
        "plt.xlabel(\"x\", size=16)\n",
        "plt.ylabel(\"y\", size=16)\n",
        "plt.legend(loc=\"best\")\n",
        "\n",
        "f.show()"
      ],
      "execution_count": 133,
      "outputs": [
        {
          "output_type": "execute_result",
          "data": {
            "text/plain": [
              "<matplotlib.collections.PathCollection at 0x7f3cb4e355c0>"
            ]
          },
          "metadata": {
            "tags": []
          },
          "execution_count": 133
        },
        {
          "output_type": "execute_result",
          "data": {
            "text/plain": [
              "<matplotlib.collections.PathCollection at 0x7f3cb4e359e8>"
            ]
          },
          "metadata": {
            "tags": []
          },
          "execution_count": 133
        },
        {
          "output_type": "execute_result",
          "data": {
            "text/plain": [
              "<matplotlib.collections.PathCollection at 0x7f3cb4e35978>"
            ]
          },
          "metadata": {
            "tags": []
          },
          "execution_count": 133
        },
        {
          "output_type": "execute_result",
          "data": {
            "text/plain": [
              "Text(0.5, 1.0, 'Raw data')"
            ]
          },
          "metadata": {
            "tags": []
          },
          "execution_count": 133
        },
        {
          "output_type": "execute_result",
          "data": {
            "text/plain": [
              "Text(0.5, 0, 'x')"
            ]
          },
          "metadata": {
            "tags": []
          },
          "execution_count": 133
        },
        {
          "output_type": "execute_result",
          "data": {
            "text/plain": [
              "Text(0, 0.5, 'y')"
            ]
          },
          "metadata": {
            "tags": []
          },
          "execution_count": 133
        },
        {
          "output_type": "execute_result",
          "data": {
            "text/plain": [
              "<matplotlib.legend.Legend at 0x7f3cb4e35e10>"
            ]
          },
          "metadata": {
            "tags": []
          },
          "execution_count": 133
        },
        {
          "output_type": "display_data",
          "data": {
            "image/png": "[encoded data removed]",
            "text/plain": [
              "<Figure size 432x288 with 1 Axes>"
            ]
          },
          "metadata": {
            "tags": []
          }
        }
      ]
    },
    {
      "cell_type": "markdown",
      "metadata": {
        "id": "Acq4-KylpQHh",
        "colab_type": "text"
      },
      "source": [
        "Normalization is also called standardization so that's the variables names below.\n",
        "\n",
        "\n",
        "![alt text](https://miro.medium.com/max/682/0*oRhJXkyKqqYp8--e.)\n",
        "\n",
        "\n",
        "1.   Get the min, and max of each class.\n",
        "2.   Normalize the dataset.\n",
        "3.   Stack the x1 twice (will be explained later).\n",
        "4.   Stack y1 and y2 (will be explained later).\n",
        "5.   Normalize the test point.\n"
      ]
    },
    {
      "cell_type": "code",
      "metadata": {
        "id": "92cWA-zcr-pH",
        "colab_type": "code",
        "colab": {}
      },
      "source": [
        "#Normalization \n",
        "\n",
        "y1_min = np.min(y1)\n",
        "y2_min = np.min(y2)\n",
        "\n",
        "\n",
        "y1_max = np.max(y1)\n",
        "y2_max = np.max(y2)\n",
        "\n",
        "x1_min = np.min(x1) #we already know those but for generality\n",
        "x1_max = np.max(x1)\n",
        "\n",
        "standard_x1 = (x1 - x1_min)/(x1_max-x1_min)\n",
        "standard_x_stack = np.append(standard_x1, standard_x1)\n",
        "standard_y1 = (y1 - y1_min)/(y1_max-y1_min)\n",
        "standard_y2 = (y2 - y2_min)/(y2_max-y2_min)\n",
        "standard_y_stack = np.append(standard_y1, standard_y2)\n",
        "\n",
        "standard_x_test = (x_test - x1_min)/(x1_max - x1_min)\n",
        "standard_y_test = (y_test- min(y1_min, y2_min))/(max(y1_max, y2_max)-min(y1_min, y2_min))"
      ],
      "execution_count": 0,
      "outputs": []
    },
    {
      "cell_type": "markdown",
      "metadata": {
        "id": "GFIko1zosLZG",
        "colab_type": "text"
      },
      "source": [
        "Here's where action takes place!\n",
        "\n",
        "1.   Calculate the distance between the test point, and all points.\n",
        "2.   Stack the xy1, and xy2 distance\n",
        "3.   Use ```np.argsort()``` to get the indices of the array if it where to be sorted, the first index is for the minimum value and the last index is for the maximum value.\n",
        "4.   Plot a line between the test point and the closest three points.\n",
        "5. If the number of blue points attached > red points, then it is considered a blue point, else red point.\n",
        "\n"
      ]
    },
    {
      "cell_type": "code",
      "metadata": {
        "id": "hNsfFA5UMaJY",
        "colab_type": "code",
        "outputId": "ebd259f0-dc8a-4a29-c49e-60b187a8658c",
        "colab": {
          "base_uri": "https://localhost:8080/",
          "height": 377
        }
      },
      "source": [
        "\n",
        "x_distance = np.square(standard_x_test - standard_x1)\n",
        "y1_distance = np.square(standard_y_test - standard_y1)\n",
        "y2_distance = np.square(standard_y_test - standard_y2)\n",
        "\n",
        "xy1_distance = np.sqrt(x_distance + y1_distance)\n",
        "xy2_distance = np.sqrt(x_distance + y2_distance)\n",
        "\n",
        "stack = np.append(xy1_distance, xy2_distance)\n",
        "\n",
        "sort = np.argsort(stack)\n",
        "\n",
        "g = plt.figure(2)\n",
        "plt.scatter(standard_x1,standard_y1, color=\"red\", label=\"class 0\", marker=\"x\")\n",
        "plt.scatter(standard_x1,standard_y2, color=\"blue\", label=\"class 1\", marker=\"o\")\n",
        "\n",
        "plt.scatter(standard_x_test, standard_y_test, color='black', marker=\"D\", label=\"test point\")\n",
        "plt.title(\"Normalized data\", size=20)\n",
        "plt.xlabel(\"x\", size=16)\n",
        "plt.ylabel(\"y\", size=16)\n",
        "\n",
        "attached_c1_num = 0\n",
        "attached_c2_num = 0\n",
        "\n",
        "for i in range(k):\n",
        "  if sort[i] < num:\n",
        "    attached_c1_num = attached_c1_num + 1\n",
        "  else:\n",
        "    attached_c2_num = attached_c2_num + 1\n",
        "  xx = np.linspace(standard_x_test, standard_x_stack[sort[i]], 100)\n",
        "  yy = np.linspace(standard_y_test, standard_y_stack[sort[i]], 100)\n",
        "  plt.plot(xx, yy, color=\"black\")\n",
        "print()\n",
        "if attached_c1_num > attached_c2_num:\n",
        "  print(\"Test point belongs to Red points\")\n",
        "else:\n",
        "  print(\"Test point belongs to Blue points\")\n",
        "\n",
        "plt.legend(loc=\"best\")\n",
        "g.show()"
      ],
      "execution_count": 135,
      "outputs": [
        {
          "output_type": "execute_result",
          "data": {
            "text/plain": [
              "<matplotlib.collections.PathCollection at 0x7f3cb4e202b0>"
            ]
          },
          "metadata": {
            "tags": []
          },
          "execution_count": 135
        },
        {
          "output_type": "execute_result",
          "data": {
            "text/plain": [
              "<matplotlib.collections.PathCollection at 0x7f3cb4e20630>"
            ]
          },
          "metadata": {
            "tags": []
          },
          "execution_count": 135
        },
        {
          "output_type": "execute_result",
          "data": {
            "text/plain": [
              "<matplotlib.collections.PathCollection at 0x7f3cb4e20668>"
            ]
          },
          "metadata": {
            "tags": []
          },
          "execution_count": 135
        },
        {
          "output_type": "execute_result",
          "data": {
            "text/plain": [
              "Text(0.5, 1.0, 'Normalized data')"
            ]
          },
          "metadata": {
            "tags": []
          },
          "execution_count": 135
        },
        {
          "output_type": "execute_result",
          "data": {
            "text/plain": [
              "Text(0.5, 0, 'x')"
            ]
          },
          "metadata": {
            "tags": []
          },
          "execution_count": 135
        },
        {
          "output_type": "execute_result",
          "data": {
            "text/plain": [
              "Text(0, 0.5, 'y')"
            ]
          },
          "metadata": {
            "tags": []
          },
          "execution_count": 135
        },
        {
          "output_type": "execute_result",
          "data": {
            "text/plain": [
              "[<matplotlib.lines.Line2D at 0x7f3cb4e20d68>]"
            ]
          },
          "metadata": {
            "tags": []
          },
          "execution_count": 135
        },
        {
          "output_type": "execute_result",
          "data": {
            "text/plain": [
              "[<matplotlib.lines.Line2D at 0x7f3cb4e20f28>]"
            ]
          },
          "metadata": {
            "tags": []
          },
          "execution_count": 135
        },
        {
          "output_type": "execute_result",
          "data": {
            "text/plain": [
              "[<matplotlib.lines.Line2D at 0x7f3cb4e2b4a8>]"
            ]
          },
          "metadata": {
            "tags": []
          },
          "execution_count": 135
        },
        {
          "output_type": "stream",
          "text": [
            "\n",
            "Test point belongs to Red points\n"
          ],
          "name": "stdout"
        },
        {
          "output_type": "execute_result",
          "data": {
            "text/plain": [
              "<matplotlib.legend.Legend at 0x7f3cb4e08d30>"
            ]
          },
          "metadata": {
            "tags": []
          },
          "execution_count": 135
        },
        {
          "output_type": "display_data",
          "data": {
            "image/png": "[encoded data removed]",
            "text/plain": [
              "<Figure size 432x288 with 1 Axes>"
            ]
          },
          "metadata": {
            "tags": []
          }
        }
      ]
    }
  ]
}